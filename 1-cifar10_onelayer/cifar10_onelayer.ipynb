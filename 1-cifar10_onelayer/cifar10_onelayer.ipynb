{
 "cells": [
  {
   "cell_type": "code",
   "execution_count": 1,
   "id": "waiting-questionnaire",
   "metadata": {},
   "outputs": [],
   "source": [
    "import os\n",
    "import sys\n",
    "import pickle\n",
    "import numpy as np"
   ]
  },
  {
   "cell_type": "code",
   "execution_count": 137,
   "id": "finite-dominican",
   "metadata": {},
   "outputs": [],
   "source": [
    "def load_batch(fpath, label_key='labels'):\n",
    "    \"\"\"Internal utility for parsing CIFAR data.\n",
    "    # Arguments\n",
    "        fpath: path the file to parse.\n",
    "        label_key: key for label data in the retrieve\n",
    "            dictionary.\n",
    "    # Returns\n",
    "        A tuple `(data, labels)`.\n",
    "    \"\"\"\n",
    "    with open(fpath, 'rb') as f:\n",
    "        if sys.version_info < (3,):\n",
    "            d = pickle.load(f)\n",
    "        else:\n",
    "            d = pickle.load(f, encoding='bytes')\n",
    "            # decode utf8\n",
    "            d_decoded = {}\n",
    "            for k, v in d.items():\n",
    "                d_decoded[k.decode('utf8')] = v\n",
    "            d = d_decoded\n",
    "    data = d['data']\n",
    "    labels = d[label_key]\n",
    "\n",
    "    #data = data.reshape(data.shape[0], 3, 32, 32)\n",
    "    data = data.reshape(data.shape[0], 3072)\n",
    "    return np.array(data), np.array(labels)"
   ]
  },
  {
   "cell_type": "code",
   "execution_count": 138,
   "id": "valued-foundation",
   "metadata": {},
   "outputs": [
    {
     "name": "stdout",
     "output_type": "stream",
     "text": [
      "x_train shape:\t (10000, 3072) \t y_train shape:\t (10000,)\n",
      "x_val shape:\t (10000, 3072) \t y_val shape:\t (10000,)\n",
      "x_test shape:\t (10000, 3072) \t y_test shape:\t (10000,)\n"
     ]
    }
   ],
   "source": [
    "path = 'cifar-10-batches-py'\n",
    "train_fpath = os.path.join('../', path, 'data_batch_1')\n",
    "val_fpath = os.path.join('../', path, 'data_batch_2')\n",
    "test_fpath = os.path.join('../', path, 'test_batch')\n",
    "\n",
    "x_train, y_train = load_batch(train_fpath)\n",
    "x_val, y_val = load_batch(val_fpath)\n",
    "x_test, y_test = load_batch(test_fpath)\n",
    "\n",
    "print('x_train shape:\\t', x_train.shape, '\\t y_train shape:\\t', y_train.shape)\n",
    "print('x_val shape:\\t', x_val.shape, '\\t y_val shape:\\t', y_val.shape)\n",
    "print('x_test shape:\\t', x_test.shape, '\\t y_test shape:\\t', y_test.shape)"
   ]
  },
  {
   "cell_type": "code",
   "execution_count": 139,
   "id": "regulated-making",
   "metadata": {},
   "outputs": [
    {
     "name": "stdout",
     "output_type": "stream",
     "text": [
      "mean shape:\t (3072,) \n",
      "std shape:\t (3072,)\n",
      "2.2611542268199023e-18 0.9999999999999997\n",
      "-0.002367710988733489 0.9987174761512392\n",
      "0.007943731845370715 0.995771074950348\n"
     ]
    }
   ],
   "source": [
    "mean, std = x_train.mean(axis=0), x_train.std(axis=0)\n",
    "print('mean shape:\\t', mean.shape, '\\nstd shape:\\t', std.shape)\n",
    "\n",
    "x_train = ( x_train - mean ) / std\n",
    "x_val = ( x_val- mean ) / std\n",
    "x_test = ( x_test - mean ) / std\n",
    "\n",
    "print(x_train.mean(), x_train.std())\n",
    "print(x_val.mean(), x_val.std())\n",
    "print(x_test.mean(), x_test.std())"
   ]
  },
  {
   "cell_type": "code",
   "execution_count": 255,
   "id": "compatible-prevention",
   "metadata": {},
   "outputs": [],
   "source": [
    "K = 10  # number of classes\n",
    "\n",
    "W = np.random.normal(0, 0.01, (K, 3072))\n",
    "b = np.random.normal(0, 0.01, K)"
   ]
  },
  {
   "cell_type": "code",
   "execution_count": 238,
   "id": "specialized-phrase",
   "metadata": {},
   "outputs": [],
   "source": [
    "def evaluate_classifier(X, W, b):\n",
    "    P = np.zeros((X.shape[0], K))\n",
    "    \n",
    "    for i in range(X.shape[0]):\n",
    "        P[i] = np.dot(W, X[0]) + b\n",
    "        \n",
    "    return np.exp(P) / np.sum(np.exp(P), axis=0)"
   ]
  },
  {
   "cell_type": "code",
   "execution_count": 239,
   "id": "identified-cancellation",
   "metadata": {},
   "outputs": [],
   "source": [
    "P = evaluate_classifier(x_train[:5], W, b)"
   ]
  },
  {
   "cell_type": "code",
   "execution_count": 262,
   "id": "danish-terror",
   "metadata": {},
   "outputs": [],
   "source": [
    "def compute_cost(X, Y, W, b, lamb):\n",
    "    \n",
    "    cost = 0\n",
    "\n",
    "    P = evaluate_classifier(X, W, b)\n",
    "    \n",
    "    for i in range(X.shape[0]):\n",
    "        cost += -np.log2(P[i][Y[i]] + sys.float_info.epsilon)\n",
    "        \n",
    "    cost /=  X.shape[0]\n",
    "    \n",
    "    cost += lamb * np.sum(W**2)\n",
    "    \n",
    "    return cost"
   ]
  },
  {
   "cell_type": "code",
   "execution_count": 266,
   "id": "positive-glance",
   "metadata": {},
   "outputs": [
    {
     "data": {
      "text/plain": [
       "11.894097624288035"
      ]
     },
     "execution_count": 266,
     "metadata": {},
     "output_type": "execute_result"
    }
   ],
   "source": [
    "lamb = 0.3\n",
    "# esto no chuta porque a mas samples mas cost y se esta diviendo por X.shape[0] asi que mala cosa\n",
    "compute_cost(x_train[:2000], y_train[:2000], W, b, lamb)"
   ]
  },
  {
   "cell_type": "code",
   "execution_count": null,
   "id": "charitable-ontario",
   "metadata": {},
   "outputs": [],
   "source": []
  }
 ],
 "metadata": {
  "kernelspec": {
   "display_name": "Python 3",
   "language": "python",
   "name": "python3"
  },
  "language_info": {
   "codemirror_mode": {
    "name": "ipython",
    "version": 3
   },
   "file_extension": ".py",
   "mimetype": "text/x-python",
   "name": "python",
   "nbconvert_exporter": "python",
   "pygments_lexer": "ipython3",
   "version": "3.7.9"
  }
 },
 "nbformat": 4,
 "nbformat_minor": 5
}
